{
 "cells": [
  {
   "cell_type": "markdown",
   "metadata": {},
   "source": [
    "## 심슨 규칙\n",
    "예시로 삼차함수인 x^3+2*x^2+4를 0부터 2 까지 심슨법으로 적분해본 결과 17.33333으로 실제 정적분 값과 같은 결과가 나온다\n",
    "\n",
    "심슨 법은 error bound에서 사계도 함수가 0 이되는  삼차함수까지는 실제 정적분값과 똑같은 결과가 나오기 때문에 실제로 n값을 어떻게 변화시키더라고 값이 같게 나오는 것 확인 할 수 있다 "
   ]
  },
  {
   "cell_type": "code",
   "execution_count": 5,
   "metadata": {},
   "outputs": [
    {
     "name": "stdout",
     "output_type": "stream",
     "text": [
      "17.333333333333332\n"
     ]
    }
   ],
   "source": [
    "def f(x):\n",
    "  return x**3+2*x**2+4\n",
    "def simpson(f,a,b,n):\n",
    "  if n%2 is not 0:\n",
    "    return None\n",
    "  h=(b-a)/n\n",
    "  first=f(a)\n",
    "  last=f(b)\n",
    "\n",
    "  x=a\n",
    "  sum=0\n",
    "  for i in range(n-1):\n",
    "    x+=h\n",
    "    fvalue=f(x)\n",
    "    if i%2==0:\n",
    "      sum+=4*fvalue\n",
    "    else:\n",
    "      sum+=2*fvalue\n",
    "  integral=(h/3)*(first+sum+last)\n",
    "  return integral\n",
    "print(simpson(f,0,2,8)) "
   ]
  },
  {
   "cell_type": "markdown",
   "metadata": {},
   "source": [
    "## 사다리꼴 근사\n",
    "예시로 x^3+2*x^2+4   0부터 2까지 n=8로 적분       "
   ]
  },
  {
   "cell_type": "code",
   "execution_count": 9,
   "metadata": {},
   "outputs": [
    {
     "name": "stdout",
     "output_type": "stream",
     "text": [
      "17.4375\n"
     ]
    }
   ],
   "source": [
    "def f(x):\n",
    "    return x**3+2*x**2+4\n",
    "def trapezoidal(f,a,b,n):\n",
    "    h=(b-a)/n\n",
    "    first=f(a)\n",
    "    last=f(b)\n",
    "    x=a\n",
    "    sum=0\n",
    "    for i in range(n-1):\n",
    "        x+=h\n",
    "        fvalue=f(x)\n",
    "        sum+=2*fvalue\n",
    "    integral=(h/2)*(first+sum+last)\n",
    "    return integral\n",
    "print(trapezoidal(f,0,2,8))"
   ]
  },
  {
   "cell_type": "markdown",
   "metadata": {},
   "source": [
    "## 중간점 근사\n",
    "예시로 x^3+2*x^2+4   0부터 2까지 n=8로 적분\n"
   ]
  },
  {
   "cell_type": "code",
   "execution_count": 10,
   "metadata": {},
   "outputs": [
    {
     "name": "stdout",
     "output_type": "stream",
     "text": [
      "17.28125\n"
     ]
    }
   ],
   "source": [
    "def f(x):\n",
    "    return x**3+2*x**2+4\n",
    "def midpoint(f,a,b,n):\n",
    "    h=(b-a)/n\n",
    "    first=f((2*a+h)/2)\n",
    "    x=(2*a+h)/2\n",
    "    sum=0\n",
    "    for i in range(n-1):\n",
    "        x+=h\n",
    "        fvalue=f(x)\n",
    "        sum+=fvalue\n",
    "    integral=h*(first+sum)\n",
    "    return integral\n",
    "print(midpoint(f,0,2,8))"
   ]
  },
  {
   "cell_type": "markdown",
   "metadata": {},
   "source": [
    "## 중간점 근사\n",
    "여려가지 적분법들의 근사값이 n에따라 어떻게 바뀌는지 시각적으로 비교해보자\n",
    "\n",
    "삼차 이하의 다항함수의 경우 심슨규칙에 의한 근사는 일정한 상수함수만 나올 것이므로 함수 1/x로 확인해본다\n",
    "\n",
    "0.5부터 10까지 적분할 때 n에따라 각 방법 별로 근사되는 적분값들을 그래프로 비교해보면 N이 커지면 커질수록 각 근사 방법들이 서로 비슷한 결과를 도출해냄을 시각적으로 확인할 수 있다"
   ]
  },
  {
   "cell_type": "code",
   "execution_count": 11,
   "metadata": {},
   "outputs": [
    {
     "data": {
      "image/png": "[encoded data removed]",
      "text/plain": [
       "<Figure size 432x288 with 1 Axes>"
      ]
     },
     "metadata": {
      "needs_background": "light"
     },
     "output_type": "display_data"
    }
   ],
   "source": [
    "import numpy as np\n",
    "import matplotlib.pyplot as plt\n",
    "def f(x):\n",
    "    return 1/x\n",
    "y1,y2,y3=[],[],[]\n",
    "for i in range(2,30,2):\n",
    "    mid=midpoint(f,0.5,10,i)\n",
    "    trap=trapezoidal(f,0.5,10,i)\n",
    "    sim=simpson(f,0.5,10,i)\n",
    "    \n",
    "    y1.append(mid)\n",
    "    y2.append(trap)\n",
    "    y3.append(sim)\n",
    "t=np.arange(2,30,2)\n",
    "np.array(y1)\n",
    "np.array(y2)\n",
    "np.array(y3)\n",
    "plt.plot(t,y1,'b')\n",
    "plt.plot(t,y2,'r')\n",
    "plt.plot(t,y3,'g')\n",
    "plt.legend(('Midpoint,''Trapezoidal','Simpson'))\n",
    "plt.show()"
   ]
  }
 ],
 "metadata": {
  "kernelspec": {
   "display_name": "Python 3",
   "language": "python",
   "name": "python3"
  },
  "language_info": {
   "codemirror_mode": {
    "name": "ipython",
    "version": 3
   },
   "file_extension": ".py",
   "mimetype": "text/x-python",
   "name": "python",
   "nbconvert_exporter": "python",
   "pygments_lexer": "ipython3",
   "version": "3.7.6"
  }
 },
 "nbformat": 4,
 "nbformat_minor": 4
}
